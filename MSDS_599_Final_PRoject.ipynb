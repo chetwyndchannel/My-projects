{
  "cells": [
    {
      "cell_type": "markdown",
      "metadata": {
        "id": "view-in-github",
        "colab_type": "text"
      },
      "source": [
        "<a href=\"https://colab.research.google.com/github/chetwyndchannel/My-projects/blob/main/MSDS_599_Final_PRoject.ipynb\" target=\"_parent\"><img src=\"https://colab.research.google.com/assets/colab-badge.svg\" alt=\"Open In Colab\"/></a>"
      ]
    },
    {
      "cell_type": "markdown",
      "source": [
        "#Abstract"
      ],
      "metadata": {
        "id": "olVYIeYJ3z1U"
      }
    },
    {
      "cell_type": "markdown",
      "source": [
        "**Goal**\n",
        "\n",
        "The Goal of this analysis is to create an efficient price predictor using regression models. We hope that through our analysis for airbnb property owners to better adjust their rate based on their properties attributes. \n",
        "\n",
        "\n",
        "**Data Overview**\n",
        "\n",
        "The data set that we will be utilizing for this analysis is from Airbnb’s New York metropolitan area. The shape of our data is 86009 thousand rows and 46 columns. It comprises 46 different variables; we will only include 36 of these variables which have been chosen based on their ability to predict the price of an Airbnb property in New york. In our analysis we had 5 different price predictors to choose from: Published Nightly rate, Average daily rate, Published Monthly rate, Published Weekly rate and Annual Revenue. We decided that Average Daily Rate(ADR) and Published Nightly Rate (PNR), would be the best predictors for our models.\n",
        "\n",
        "\n",
        "The ADR variable had 22617 missing values (26%), however instead of dropping these NAs we decided to feature engineer a value to replace them. First we identified the top recurring neighborhoods which accounted for 60% of the missing values in ADR: Williamsburg; Harlem; Brooklyn; Midtown;  Bushwick; East Village;  Upper West Side; Upper East Side; Crown Heights; Lower East Side; Astoria; Washington Heights. \n",
        "\n",
        "\n",
        "Then we took the mode of these values and the respective mean. The result we got from these calculations was 87.5, each NA value within ADR was replaced with this value. \n",
        "After this process we decided to drop the rest of the null values resulting in a sample size of 10038, which gives an additional 2471 samples from just dropping all null values (see: data6 vs data5).  From this process we create the night_data dataset (relevant columns excluding ADR) and the ADR_data dataset (relevant columns excluding Published Nightly Rate), for their respective prediction models. \n",
        "\n",
        "\n",
        "Next we tested which dependent variable performed the best in a standard linear regression. The results were that Published Nightly Rate ($R^2=0.723$) out performed Average Daily Price ($R^2=0.635$). Our reasoning behind this is that perhaps we could have used a better method for feature engineering to get more similar results. \n",
        "\n",
        "We ran the rest of the models using the PNR as the main dependent variable.\n",
        "\n",
        "**Summary**\n",
        "\n",
        "For the analysis of this data set, we have chosen to utilize 6 different supervised machine learning models to predict the price of an Airbnb property in New York. For our first model we have chosen a principal component analysis as a dimension reduction technique. From the PCA model we have been able to reduce the amount of linear relationships needed to represent our model down to 3 principal components, however this greatly reduces the predictive power of our models. We theorized that this might  be due to the fact that  PCA does not take into account classes of information, it purely looks at the variance of each feature.\n",
        "\n",
        " The second model we use an *OLS Regression* technique to help understand the causal relationship between the features of a property on the published nightly rate.\n",
        "The R Squared from this model is 0.72 ~ 72.3%.  \n",
        "\n",
        "Our third model utilizes *Ridge Regression* to combat the issue of multicollinearity. The R squared from this model is .72 ~ 72.3%. In the fourth model we use a *Lasso Regression* to help shrink the possibility of overfitting. The R squared from this model is 0.723 ~ 72.3%. \n",
        "\n",
        "The fourth model is a *Random Forest regressor*. This technique allows us to fit a number of classifying decisions on various sub-samples of the data set using averaging to improve the accuracy and control for overfitting. The R squared for this model is 0.732 ~ 73.2%. \n",
        "\n",
        "In the fifth model we use a *Gradient boosting model*. This model allows for weaker signals to show throughout the model, this also shrinks the data set controlling for overfitting. The R squared for this model is 0.58~58%.\n",
        "\n",
        " The sixth model we have chosen is *Bagging* in order to help with bias-variance-trade-off. The R squared for this model is 0.719 ~71%. \n",
        "\n",
        "After utilizing the 6 different  supervised machine learning models we can conclude that the Random Forest regressor is the most efficient model for price prediction of an airbnb property in New York. Its ability to combine ensemble learning with a decision tree framework to create multiple randomly drawn decision trees from the data allowed for the model to be flexible enough to accurately predict Nightly rate. Information that shed light on the price setting controls set by owners and the different types of discounts given by owners based on seasonality. This information would help us better understand price setting for airbnb owners  leading to a more accurate price prediction model.\n"
      ],
      "metadata": {
        "id": "KqOO27Le34Zi"
      }
    },
    {
      "cell_type": "markdown",
      "metadata": {
        "id": "-njobIIabnTx"
      },
      "source": [
        "# Data Exploration/Cleaning\n"
      ]
    },
    {
      "cell_type": "code",
      "execution_count": null,
      "metadata": {
        "id": "t52o4Z_rsWKb"
      },
      "outputs": [],
      "source": [
        "from sklearn.model_selection import cross_validate\n",
        "from sklearn.model_selection import train_test_split\n",
        "from sklearn.metrics import mean_squared_error\n",
        "from sklearn import datasets\n",
        "from sklearn.metrics import accuracy_score\n",
        "from sklearn.neighbors import KNeighborsClassifier\n",
        "import pandas as pd\n",
        "import numpy as np\n",
        "import matplotlib.pyplot as plt\n",
        "import seaborn as sns\n",
        "from sklearn.metrics import mean_absolute_error"
      ]
    },
    {
      "cell_type": "code",
      "execution_count": null,
      "metadata": {
        "id": "duIHG2TusoQ6"
      },
      "outputs": [],
      "source": [
        "import pandas as pd\n",
        "import numpy as np\n",
        "import matplotlib.pyplot as plt\n",
        "import seaborn as sns\n"
      ]
    },
    {
      "cell_type": "code",
      "execution_count": null,
      "metadata": {
        "id": "fKJ49eIzsw48"
      },
      "outputs": [],
      "source": [
        "from sklearn.model_selection import cross_validate\n",
        "from sklearn.model_selection import train_test_split\n",
        "from sklearn.metrics import mean_squared_error\n",
        "from sklearn import datasets\n",
        "from sklearn.metrics import accuracy_score\n",
        "from sklearn import tree\n",
        "from sklearn.tree import DecisionTreeRegressor\n",
        "from sklearn.tree import DecisionTreeClassifier\n",
        "from sklearn.tree import export_text"
      ]
    },
    {
      "cell_type": "code",
      "execution_count": null,
      "metadata": {
        "id": "H2Kx3prxsxgu"
      },
      "outputs": [],
      "source": [
        "from sklearn.model_selection import cross_validate\n",
        "from sklearn.model_selection import train_test_split\n",
        "from sklearn.metrics import mean_squared_error\n",
        "from sklearn import datasets\n",
        "from sklearn.metrics import accuracy_score\n",
        "from sklearn import tree\n",
        "from sklearn.tree import DecisionTreeClassifier\n",
        "from sklearn.tree import DecisionTreeClassifier\n",
        "from sklearn.ensemble import RandomForestClassifier\n",
        "from sklearn.ensemble import GradientBoostingClassifier\n",
        "from sklearn.ensemble import BaggingClassifier\n",
        "from sklearn.linear_model import LogisticRegression\n",
        "from sklearn.linear_model import LinearRegression as ols\n",
        "from statsmodels.stats.outliers_influence import variance_inflation_factor"
      ]
    },
    {
      "cell_type": "code",
      "source": [
        "from google.colab import drive\n",
        "drive.mount('/content/drive')"
      ],
      "metadata": {
        "colab": {
          "base_uri": "https://localhost:8080/"
        },
        "id": "SbmYDSyIs-3D",
        "outputId": "87da6616-3d63-4baf-c4c6-7d1260417da4"
      },
      "execution_count": null,
      "outputs": [
        {
          "output_type": "stream",
          "name": "stdout",
          "text": [
            "Mounted at /content/drive\n"
          ]
        }
      ]
    },
    {
      "cell_type": "code",
      "execution_count": null,
      "metadata": {
        "id": "40WKkYkAvJcR",
        "colab": {
          "base_uri": "https://localhost:8080/",
          "height": 888
        },
        "outputId": "13cce705-9e97-4595-f0f5-b4e4f9227925"
      },
      "outputs": [
        {
          "output_type": "stream",
          "name": "stderr",
          "text": [
            "/usr/local/lib/python3.7/dist-packages/IPython/core/interactiveshell.py:3326: DtypeWarning: Columns (40) have mixed types.Specify dtype option on import or set low_memory=False.\n",
            "  exec(code_obj, self.user_global_ns, self.user_ns)\n"
          ]
        },
        {
          "output_type": "execute_result",
          "data": {
            "text/plain": [
              "       Property ID     Host ID                        Listing Title  \\\n",
              "0            105.0       500.0             Trendy Times Square Loft   \n",
              "1            795.0      1061.0                    Sky Chelsea 3 bdr   \n",
              "2           2515.0      2758.0     Stay at Chez Chic budget room #1   \n",
              "3           2534.0      2782.0  The Nest: Cozy, Quiet, Clean, Sunny   \n",
              "4           2539.0      2787.0   Clean & quiet apt home by the park   \n",
              "...            ...         ...                                  ...   \n",
              "86004   16905634.0   1009903.0                 Comfort and coziness   \n",
              "86005   16908288.0  24120303.0                   Fresh Shared Space   \n",
              "86006   16909197.0  24120303.0                 Fun Cozy Environment   \n",
              "86007   16909522.0  24120303.0                 Chilled Shared Space   \n",
              "86008          NaN         NaN                                  NaN   \n",
              "\n",
              "      Property Type     Listing Type Created Date Last Scraped Date  \\\n",
              "0         Apartment     Private room   2008-06-28        2016-03-18   \n",
              "1         Apartment  Entire home/apt   2008-07-25        2016-03-02   \n",
              "2         Apartment     Private room   2008-09-05        2017-03-01   \n",
              "3         Apartment  Entire home/apt   2008-09-06        2016-02-19   \n",
              "4         Apartment     Private room   2008-09-07        2016-11-19   \n",
              "...             ...              ...          ...               ...   \n",
              "86004     Apartment  Entire home/apt   2017-01-23        2017-02-05   \n",
              "86005     Apartment      Shared room   2017-01-23        2017-02-03   \n",
              "86006     Apartment      Shared room   2017-01-23        2017-02-03   \n",
              "86007     Apartment      Shared room   2017-01-23        2017-02-02   \n",
              "86008           NaN              NaN          NaN               NaN   \n",
              "\n",
              "             Country     State      City  ...  Count Reservation Days LTM  \\\n",
              "0      United States  New York  New York  ...                         0.0   \n",
              "1      United States  New York  New York  ...                         0.0   \n",
              "2      United States  New York  New York  ...                       239.0   \n",
              "3      United States  New York  New York  ...                       103.0   \n",
              "4      United States  New York  New York  ...                        38.0   \n",
              "...              ...       ...       ...  ...                         ...   \n",
              "86004  United States  New York  New York  ...                         0.0   \n",
              "86005  United States  New York  New York  ...                         0.0   \n",
              "86006  United States  New York  New York  ...                         0.0   \n",
              "86007  United States  New York  New York  ...                         0.0   \n",
              "86008            NaN       NaN       NaN  ...                         NaN   \n",
              "\n",
              "      Count Available Days LTM Count Blocked Days LTM  Number of Photos  \\\n",
              "0                        366.0                    0.0              25.0   \n",
              "1                        366.0                    0.0              22.0   \n",
              "2                        106.0                   21.0              11.0   \n",
              "3                          8.0                  255.0              16.0   \n",
              "4                        328.0                    0.0              12.0   \n",
              "...                        ...                    ...               ...   \n",
              "86004                     31.0                    0.0               7.0   \n",
              "86005                     31.0                    0.0               8.0   \n",
              "86006                     28.0                    3.0               6.0   \n",
              "86007                     31.0                    0.0               9.0   \n",
              "86008                      NaN                    NaN               NaN   \n",
              "\n",
              "       Business Ready  Instantbook Enabled  \\\n",
              "0               False                   No   \n",
              "1               False                   No   \n",
              "2               False                   No   \n",
              "3               False                   No   \n",
              "4               False                   No   \n",
              "...               ...                  ...   \n",
              "86004           False                  Yes   \n",
              "86005           False                   No   \n",
              "86006           False                   No   \n",
              "86007           False                   No   \n",
              "86008             NaN                  NaN   \n",
              "\n",
              "                                 Listing URL  \\\n",
              "0           https://www.airbnb.com/rooms/105   \n",
              "1           https://www.airbnb.com/rooms/795   \n",
              "2          https://www.airbnb.com/rooms/2515   \n",
              "3          https://www.airbnb.com/rooms/2534   \n",
              "4          https://www.airbnb.com/rooms/2539   \n",
              "...                                      ...   \n",
              "86004  https://www.airbnb.com/rooms/16905634   \n",
              "86005  https://www.airbnb.com/rooms/16908288   \n",
              "86006  https://www.airbnb.com/rooms/16909197   \n",
              "86007  https://www.airbnb.com/rooms/16909522   \n",
              "86008                                    NaN   \n",
              "\n",
              "                                  Listing Main Image URL   Latitude  Longitude  \n",
              "0      https://a0.muscache.com/im/pictures/59366/b695...  40.762099 -73.996022  \n",
              "1      https://a2.muscache.com/im/pictures/a849796f-a...  40.746257 -74.007022  \n",
              "2      https://a0.muscache.com/im/pictures/88569/eebe...  40.799205 -73.953676  \n",
              "3      https://a2.muscache.com/im/pictures/7a147a6c-e...  40.762059 -73.961365  \n",
              "4      https://a2.muscache.com/im/pictures/3949d073-a...  40.647486 -73.972370  \n",
              "...                                                  ...        ...        ...  \n",
              "86004  https://a0.muscache.com/im/pictures/23fad023-0...  40.735170 -74.005583  \n",
              "86005  https://a0.muscache.com/im/pictures/e9073702-1...  40.706625 -73.949328  \n",
              "86006  https://a0.muscache.com/im/pictures/5d626c2a-3...  40.707130 -73.949391  \n",
              "86007  https://a0.muscache.com/im/pictures/6db0080f-8...  40.707067 -73.949980  \n",
              "86008                                                NaN        NaN        NaN  \n",
              "\n",
              "[86009 rows x 46 columns]"
            ],
            "text/html": [
              "\n",
              "  <div id=\"df-bdf53361-eced-45e2-95a3-da5138683165\">\n",
              "    <div class=\"colab-df-container\">\n",
              "      <div>\n",
              "<style scoped>\n",
              "    .dataframe tbody tr th:only-of-type {\n",
              "        vertical-align: middle;\n",
              "    }\n",
              "\n",
              "    .dataframe tbody tr th {\n",
              "        vertical-align: top;\n",
              "    }\n",
              "\n",
              "    .dataframe thead th {\n",
              "        text-align: right;\n",
              "    }\n",
              "</style>\n",
              "<table border=\"1\" class=\"dataframe\">\n",
              "  <thead>\n",
              "    <tr style=\"text-align: right;\">\n",
              "      <th></th>\n",
              "      <th>Property ID</th>\n",
              "      <th>Host ID</th>\n",
              "      <th>Listing Title</th>\n",
              "      <th>Property Type</th>\n",
              "      <th>Listing Type</th>\n",
              "      <th>Created Date</th>\n",
              "      <th>Last Scraped Date</th>\n",
              "      <th>Country</th>\n",
              "      <th>State</th>\n",
              "      <th>City</th>\n",
              "      <th>...</th>\n",
              "      <th>Count Reservation Days LTM</th>\n",
              "      <th>Count Available Days LTM</th>\n",
              "      <th>Count Blocked Days LTM</th>\n",
              "      <th>Number of Photos</th>\n",
              "      <th>Business Ready</th>\n",
              "      <th>Instantbook Enabled</th>\n",
              "      <th>Listing URL</th>\n",
              "      <th>Listing Main Image URL</th>\n",
              "      <th>Latitude</th>\n",
              "      <th>Longitude</th>\n",
              "    </tr>\n",
              "  </thead>\n",
              "  <tbody>\n",
              "    <tr>\n",
              "      <th>0</th>\n",
              "      <td>105.0</td>\n",
              "      <td>500.0</td>\n",
              "      <td>Trendy Times Square Loft</td>\n",
              "      <td>Apartment</td>\n",
              "      <td>Private room</td>\n",
              "      <td>2008-06-28</td>\n",
              "      <td>2016-03-18</td>\n",
              "      <td>United States</td>\n",
              "      <td>New York</td>\n",
              "      <td>New York</td>\n",
              "      <td>...</td>\n",
              "      <td>0.0</td>\n",
              "      <td>366.0</td>\n",
              "      <td>0.0</td>\n",
              "      <td>25.0</td>\n",
              "      <td>False</td>\n",
              "      <td>No</td>\n",
              "      <td>https://www.airbnb.com/rooms/105</td>\n",
              "      <td>https://a0.muscache.com/im/pictures/59366/b695...</td>\n",
              "      <td>40.762099</td>\n",
              "      <td>-73.996022</td>\n",
              "    </tr>\n",
              "    <tr>\n",
              "      <th>1</th>\n",
              "      <td>795.0</td>\n",
              "      <td>1061.0</td>\n",
              "      <td>Sky Chelsea 3 bdr</td>\n",
              "      <td>Apartment</td>\n",
              "      <td>Entire home/apt</td>\n",
              "      <td>2008-07-25</td>\n",
              "      <td>2016-03-02</td>\n",
              "      <td>United States</td>\n",
              "      <td>New York</td>\n",
              "      <td>New York</td>\n",
              "      <td>...</td>\n",
              "      <td>0.0</td>\n",
              "      <td>366.0</td>\n",
              "      <td>0.0</td>\n",
              "      <td>22.0</td>\n",
              "      <td>False</td>\n",
              "      <td>No</td>\n",
              "      <td>https://www.airbnb.com/rooms/795</td>\n",
              "      <td>https://a2.muscache.com/im/pictures/a849796f-a...</td>\n",
              "      <td>40.746257</td>\n",
              "      <td>-74.007022</td>\n",
              "    </tr>\n",
              "    <tr>\n",
              "      <th>2</th>\n",
              "      <td>2515.0</td>\n",
              "      <td>2758.0</td>\n",
              "      <td>Stay at Chez Chic budget room #1</td>\n",
              "      <td>Apartment</td>\n",
              "      <td>Private room</td>\n",
              "      <td>2008-09-05</td>\n",
              "      <td>2017-03-01</td>\n",
              "      <td>United States</td>\n",
              "      <td>New York</td>\n",
              "      <td>New York</td>\n",
              "      <td>...</td>\n",
              "      <td>239.0</td>\n",
              "      <td>106.0</td>\n",
              "      <td>21.0</td>\n",
              "      <td>11.0</td>\n",
              "      <td>False</td>\n",
              "      <td>No</td>\n",
              "      <td>https://www.airbnb.com/rooms/2515</td>\n",
              "      <td>https://a0.muscache.com/im/pictures/88569/eebe...</td>\n",
              "      <td>40.799205</td>\n",
              "      <td>-73.953676</td>\n",
              "    </tr>\n",
              "    <tr>\n",
              "      <th>3</th>\n",
              "      <td>2534.0</td>\n",
              "      <td>2782.0</td>\n",
              "      <td>The Nest: Cozy, Quiet, Clean, Sunny</td>\n",
              "      <td>Apartment</td>\n",
              "      <td>Entire home/apt</td>\n",
              "      <td>2008-09-06</td>\n",
              "      <td>2016-02-19</td>\n",
              "      <td>United States</td>\n",
              "      <td>New York</td>\n",
              "      <td>New York</td>\n",
              "      <td>...</td>\n",
              "      <td>103.0</td>\n",
              "      <td>8.0</td>\n",
              "      <td>255.0</td>\n",
              "      <td>16.0</td>\n",
              "      <td>False</td>\n",
              "      <td>No</td>\n",
              "      <td>https://www.airbnb.com/rooms/2534</td>\n",
              "      <td>https://a2.muscache.com/im/pictures/7a147a6c-e...</td>\n",
              "      <td>40.762059</td>\n",
              "      <td>-73.961365</td>\n",
              "    </tr>\n",
              "    <tr>\n",
              "      <th>4</th>\n",
              "      <td>2539.0</td>\n",
              "      <td>2787.0</td>\n",
              "      <td>Clean &amp; quiet apt home by the park</td>\n",
              "      <td>Apartment</td>\n",
              "      <td>Private room</td>\n",
              "      <td>2008-09-07</td>\n",
              "      <td>2016-11-19</td>\n",
              "      <td>United States</td>\n",
              "      <td>New York</td>\n",
              "      <td>New York</td>\n",
              "      <td>...</td>\n",
              "      <td>38.0</td>\n",
              "      <td>328.0</td>\n",
              "      <td>0.0</td>\n",
              "      <td>12.0</td>\n",
              "      <td>False</td>\n",
              "      <td>No</td>\n",
              "      <td>https://www.airbnb.com/rooms/2539</td>\n",
              "      <td>https://a2.muscache.com/im/pictures/3949d073-a...</td>\n",
              "      <td>40.647486</td>\n",
              "      <td>-73.972370</td>\n",
              "    </tr>\n",
              "    <tr>\n",
              "      <th>...</th>\n",
              "      <td>...</td>\n",
              "      <td>...</td>\n",
              "      <td>...</td>\n",
              "      <td>...</td>\n",
              "      <td>...</td>\n",
              "      <td>...</td>\n",
              "      <td>...</td>\n",
              "      <td>...</td>\n",
              "      <td>...</td>\n",
              "      <td>...</td>\n",
              "      <td>...</td>\n",
              "      <td>...</td>\n",
              "      <td>...</td>\n",
              "      <td>...</td>\n",
              "      <td>...</td>\n",
              "      <td>...</td>\n",
              "      <td>...</td>\n",
              "      <td>...</td>\n",
              "      <td>...</td>\n",
              "      <td>...</td>\n",
              "      <td>...</td>\n",
              "    </tr>\n",
              "    <tr>\n",
              "      <th>86004</th>\n",
              "      <td>16905634.0</td>\n",
              "      <td>1009903.0</td>\n",
              "      <td>Comfort and coziness</td>\n",
              "      <td>Apartment</td>\n",
              "      <td>Entire home/apt</td>\n",
              "      <td>2017-01-23</td>\n",
              "      <td>2017-02-05</td>\n",
              "      <td>United States</td>\n",
              "      <td>New York</td>\n",
              "      <td>New York</td>\n",
              "      <td>...</td>\n",
              "      <td>0.0</td>\n",
              "      <td>31.0</td>\n",
              "      <td>0.0</td>\n",
              "      <td>7.0</td>\n",
              "      <td>False</td>\n",
              "      <td>Yes</td>\n",
              "      <td>https://www.airbnb.com/rooms/16905634</td>\n",
              "      <td>https://a0.muscache.com/im/pictures/23fad023-0...</td>\n",
              "      <td>40.735170</td>\n",
              "      <td>-74.005583</td>\n",
              "    </tr>\n",
              "    <tr>\n",
              "      <th>86005</th>\n",
              "      <td>16908288.0</td>\n",
              "      <td>24120303.0</td>\n",
              "      <td>Fresh Shared Space</td>\n",
              "      <td>Apartment</td>\n",
              "      <td>Shared room</td>\n",
              "      <td>2017-01-23</td>\n",
              "      <td>2017-02-03</td>\n",
              "      <td>United States</td>\n",
              "      <td>New York</td>\n",
              "      <td>New York</td>\n",
              "      <td>...</td>\n",
              "      <td>0.0</td>\n",
              "      <td>31.0</td>\n",
              "      <td>0.0</td>\n",
              "      <td>8.0</td>\n",
              "      <td>False</td>\n",
              "      <td>No</td>\n",
              "      <td>https://www.airbnb.com/rooms/16908288</td>\n",
              "      <td>https://a0.muscache.com/im/pictures/e9073702-1...</td>\n",
              "      <td>40.706625</td>\n",
              "      <td>-73.949328</td>\n",
              "    </tr>\n",
              "    <tr>\n",
              "      <th>86006</th>\n",
              "      <td>16909197.0</td>\n",
              "      <td>24120303.0</td>\n",
              "      <td>Fun Cozy Environment</td>\n",
              "      <td>Apartment</td>\n",
              "      <td>Shared room</td>\n",
              "      <td>2017-01-23</td>\n",
              "      <td>2017-02-03</td>\n",
              "      <td>United States</td>\n",
              "      <td>New York</td>\n",
              "      <td>New York</td>\n",
              "      <td>...</td>\n",
              "      <td>0.0</td>\n",
              "      <td>28.0</td>\n",
              "      <td>3.0</td>\n",
              "      <td>6.0</td>\n",
              "      <td>False</td>\n",
              "      <td>No</td>\n",
              "      <td>https://www.airbnb.com/rooms/16909197</td>\n",
              "      <td>https://a0.muscache.com/im/pictures/5d626c2a-3...</td>\n",
              "      <td>40.707130</td>\n",
              "      <td>-73.949391</td>\n",
              "    </tr>\n",
              "    <tr>\n",
              "      <th>86007</th>\n",
              "      <td>16909522.0</td>\n",
              "      <td>24120303.0</td>\n",
              "      <td>Chilled Shared Space</td>\n",
              "      <td>Apartment</td>\n",
              "      <td>Shared room</td>\n",
              "      <td>2017-01-23</td>\n",
              "      <td>2017-02-02</td>\n",
              "      <td>United States</td>\n",
              "      <td>New York</td>\n",
              "      <td>New York</td>\n",
              "      <td>...</td>\n",
              "      <td>0.0</td>\n",
              "      <td>31.0</td>\n",
              "      <td>0.0</td>\n",
              "      <td>9.0</td>\n",
              "      <td>False</td>\n",
              "      <td>No</td>\n",
              "      <td>https://www.airbnb.com/rooms/16909522</td>\n",
              "      <td>https://a0.muscache.com/im/pictures/6db0080f-8...</td>\n",
              "      <td>40.707067</td>\n",
              "      <td>-73.949980</td>\n",
              "    </tr>\n",
              "    <tr>\n",
              "      <th>86008</th>\n",
              "      <td>NaN</td>\n",
              "      <td>NaN</td>\n",
              "      <td>NaN</td>\n",
              "      <td>NaN</td>\n",
              "      <td>NaN</td>\n",
              "      <td>NaN</td>\n",
              "      <td>NaN</td>\n",
              "      <td>NaN</td>\n",
              "      <td>NaN</td>\n",
              "      <td>NaN</td>\n",
              "      <td>...</td>\n",
              "      <td>NaN</td>\n",
              "      <td>NaN</td>\n",
              "      <td>NaN</td>\n",
              "      <td>NaN</td>\n",
              "      <td>NaN</td>\n",
              "      <td>NaN</td>\n",
              "      <td>NaN</td>\n",
              "      <td>NaN</td>\n",
              "      <td>NaN</td>\n",
              "      <td>NaN</td>\n",
              "    </tr>\n",
              "  </tbody>\n",
              "</table>\n",
              "<p>86009 rows × 46 columns</p>\n",
              "</div>\n",
              "      <button class=\"colab-df-convert\" onclick=\"convertToInteractive('df-bdf53361-eced-45e2-95a3-da5138683165')\"\n",
              "              title=\"Convert this dataframe to an interactive table.\"\n",
              "              style=\"display:none;\">\n",
              "        \n",
              "  <svg xmlns=\"http://www.w3.org/2000/svg\" height=\"24px\"viewBox=\"0 0 24 24\"\n",
              "       width=\"24px\">\n",
              "    <path d=\"M0 0h24v24H0V0z\" fill=\"none\"/>\n",
              "    <path d=\"M18.56 5.44l.94 2.06.94-2.06 2.06-.94-2.06-.94-.94-2.06-.94 2.06-2.06.94zm-11 1L8.5 8.5l.94-2.06 2.06-.94-2.06-.94L8.5 2.5l-.94 2.06-2.06.94zm10 10l.94 2.06.94-2.06 2.06-.94-2.06-.94-.94-2.06-.94 2.06-2.06.94z\"/><path d=\"M17.41 7.96l-1.37-1.37c-.4-.4-.92-.59-1.43-.59-.52 0-1.04.2-1.43.59L10.3 9.45l-7.72 7.72c-.78.78-.78 2.05 0 2.83L4 21.41c.39.39.9.59 1.41.59.51 0 1.02-.2 1.41-.59l7.78-7.78 2.81-2.81c.8-.78.8-2.07 0-2.86zM5.41 20L4 18.59l7.72-7.72 1.47 1.35L5.41 20z\"/>\n",
              "  </svg>\n",
              "      </button>\n",
              "      \n",
              "  <style>\n",
              "    .colab-df-container {\n",
              "      display:flex;\n",
              "      flex-wrap:wrap;\n",
              "      gap: 12px;\n",
              "    }\n",
              "\n",
              "    .colab-df-convert {\n",
              "      background-color: #E8F0FE;\n",
              "      border: none;\n",
              "      border-radius: 50%;\n",
              "      cursor: pointer;\n",
              "      display: none;\n",
              "      fill: #1967D2;\n",
              "      height: 32px;\n",
              "      padding: 0 0 0 0;\n",
              "      width: 32px;\n",
              "    }\n",
              "\n",
              "    .colab-df-convert:hover {\n",
              "      background-color: #E2EBFA;\n",
              "      box-shadow: 0px 1px 2px rgba(60, 64, 67, 0.3), 0px 1px 3px 1px rgba(60, 64, 67, 0.15);\n",
              "      fill: #174EA6;\n",
              "    }\n",
              "\n",
              "    [theme=dark] .colab-df-convert {\n",
              "      background-color: #3B4455;\n",
              "      fill: #D2E3FC;\n",
              "    }\n",
              "\n",
              "    [theme=dark] .colab-df-convert:hover {\n",
              "      background-color: #434B5C;\n",
              "      box-shadow: 0px 1px 3px 1px rgba(0, 0, 0, 0.15);\n",
              "      filter: drop-shadow(0px 1px 2px rgba(0, 0, 0, 0.3));\n",
              "      fill: #FFFFFF;\n",
              "    }\n",
              "  </style>\n",
              "\n",
              "      <script>\n",
              "        const buttonEl =\n",
              "          document.querySelector('#df-bdf53361-eced-45e2-95a3-da5138683165 button.colab-df-convert');\n",
              "        buttonEl.style.display =\n",
              "          google.colab.kernel.accessAllowed ? 'block' : 'none';\n",
              "\n",
              "        async function convertToInteractive(key) {\n",
              "          const element = document.querySelector('#df-bdf53361-eced-45e2-95a3-da5138683165');\n",
              "          const dataTable =\n",
              "            await google.colab.kernel.invokeFunction('convertToInteractive',\n",
              "                                                     [key], {});\n",
              "          if (!dataTable) return;\n",
              "\n",
              "          const docLinkHtml = 'Like what you see? Visit the ' +\n",
              "            '<a target=\"_blank\" href=https://colab.research.google.com/notebooks/data_table.ipynb>data table notebook</a>'\n",
              "            + ' to learn more about interactive tables.';\n",
              "          element.innerHTML = '';\n",
              "          dataTable['output_type'] = 'display_data';\n",
              "          await google.colab.output.renderOutput(dataTable, element);\n",
              "          const docLink = document.createElement('div');\n",
              "          docLink.innerHTML = docLinkHtml;\n",
              "          element.appendChild(docLink);\n",
              "        }\n",
              "      </script>\n",
              "    </div>\n",
              "  </div>\n",
              "  "
            ]
          },
          "metadata": {},
          "execution_count": 8
        }
      ],
      "source": [
        "data=pd.read_csv('/content/drive/MyDrive/Colab Notebooks/airbnb_property/New York-New York_Property_2017-03-01.csv')\n",
        "data"
      ]
    },
    {
      "cell_type": "code",
      "source": [
        "from datetime import datetime\n",
        "#datetime.strptime(data['Last Scraped Date'], '%m/%d/%y %H:%M:%S')\n",
        "pd.to_datetime(data ['Created Date']).min()\n"
      ],
      "metadata": {
        "colab": {
          "base_uri": "https://localhost:8080/"
        },
        "id": "14LBCLzF__Le",
        "outputId": "f01a3871-b973-4e1f-929b-913cf9eb2de9"
      },
      "execution_count": null,
      "outputs": [
        {
          "output_type": "execute_result",
          "data": {
            "text/plain": [
              "Timestamp('2008-06-28 00:00:00')"
            ]
          },
          "metadata": {},
          "execution_count": 19
        }
      ]
    },
    {
      "cell_type": "markdown",
      "metadata": {
        "id": "LqIISSwab_Mz"
      },
      "source": [
        "# Data Engineering"
      ]
    },
    {
      "cell_type": "code",
      "source": [
        "data.dtypes"
      ],
      "metadata": {
        "id": "zSxvPttIXTG1"
      },
      "execution_count": null,
      "outputs": []
    },
    {
      "cell_type": "code",
      "execution_count": null,
      "metadata": {
        "id": "cHA-1ULNDy0s"
      },
      "outputs": [],
      "source": [
        "data.shape"
      ]
    },
    {
      "cell_type": "code",
      "source": [
        "(data.isna().sum())/len(data)"
      ],
      "metadata": {
        "id": "UzhJsYZrl8dW"
      },
      "execution_count": null,
      "outputs": []
    },
    {
      "cell_type": "code",
      "source": [
        "data.isna().sum()"
      ],
      "metadata": {
        "id": "Xu-cKor1P_QQ"
      },
      "execution_count": null,
      "outputs": []
    },
    {
      "cell_type": "code",
      "source": [
        "#Variables Dropped\n",
        "#One value variables: City, Country \n",
        "#Unneeded variables: Listing URL, Listing Main Image URL, Latitude, Longitude, Metropolitan Statistical Area, state\n",
        "#Checkout/Check-in Time variables had too many NA values, and had too many character variations making it difficult to format .\n",
        "print('City:', data.City.unique())\n",
        "print('Country:',data.Country.unique())\n",
        "print('Metropolitan Statistical Area:', data['Metropolitan Statistical Area'].unique())\n",
        "print('Check-in Time:', data['Check-in Time'].unique()[:4])\n"
      ],
      "metadata": {
        "id": "lFaatMJvQ3BO"
      },
      "execution_count": null,
      "outputs": []
    },
    {
      "cell_type": "code",
      "execution_count": null,
      "metadata": {
        "id": "iKkxZf4TwXAJ"
      },
      "outputs": [],
      "source": [
        "#Dropping variables\n",
        "data2=data.drop(columns=['City', 'State',\"Country\", \"Listing URL\", \"Listing Main Image URL\", \"Latitude\", \"Longitude\", \"Checkout Time\", \"Check-in Time\",\"Metropolitan Statistical Area\"])\n",
        "data2.shape\n"
      ]
    },
    {
      "cell_type": "code",
      "source": [
        "data2"
      ],
      "metadata": {
        "id": "I6mpxnzCXKVn"
      },
      "execution_count": null,
      "outputs": []
    },
    {
      "cell_type": "markdown",
      "source": [
        "Originally we wanted to use Average Daily Rate as our price predictor as it gives the most accurate representation of a price over time.\n",
        "\n",
        "However it has many NAs (26%), instead of dropping them we decided to engineer an appropriate value to replace the missing values. \n"
      ],
      "metadata": {
        "id": "NzJcihEeXnQD"
      }
    },
    {
      "cell_type": "code",
      "source": [
        "print(data2[\"Average Daily Rate\"].isna().sum())\n",
        "print('Average Daily Rate percentage:',(data2[\"Average Daily Rate\"].isna().sum())/len(data2[\"Average Daily Rate\"]))"
      ],
      "metadata": {
        "id": "ZSZTCahvaNKQ"
      },
      "execution_count": null,
      "outputs": []
    },
    {
      "cell_type": "code",
      "execution_count": null,
      "metadata": {
        "id": "UBokRGmhyruo"
      },
      "outputs": [],
      "source": [
        "#Finding only the NA Average Daily Rate (ADR)\n",
        "adr_null=data2[data2['Average Daily Rate'].isnull()]\n",
        "\n",
        "#Grouping by neighborhoods\n",
        "len(adr_null['Neighborhood']) *0.6\n",
        "sum(adr_null['Neighborhood'].value_counts().head(12))\n",
        "adr_null['Neighborhood'].value_counts().head(12)\n",
        "\n",
        "#top 12 neighborhoods\n",
        "top_12 =['Williamsburg', 'Harlem', 'Brooklyn', 'Midtown', 'Bushwick', 'East Village', 'Upper West Side', 'Upper East Side', 'Crown Heights', 'Lower East Side', 'Astoria', 'Washington Heights']\n",
        "data3=data2[data2['Neighborhood'].isin(['Williamsburg', 'Harlem', 'Brooklyn', 'Midtown', 'Bushwick', 'East Village', 'Upper West Side', 'Upper East Side', 'Crown Heights', 'Lower East Side', 'Astoria', 'Washington Heights'])]\n",
        "\n",
        "#finding the mean of the mode \n",
        "data4 =data3.groupby(by=['Neighborhood'], as_index=False)['Average Daily Rate'].agg(pd.Series.mode)\n",
        "print('Computed ADR:', data4[\"Average Daily Rate\"].mean())\n",
        "data4\n"
      ]
    },
    {
      "cell_type": "markdown",
      "source": [
        "Replacing the null values in ADR\n",
        "\n",
        "- ADR has 22617 null values\n",
        "- The top 12 reccuring neighborhoods made up 60% of the null values\n",
        "- We took the mode of these 12 neighborhoods from the original dataset and the mean of their mode.\n",
        "- replaced all null values with this result 87.5\n"
      ],
      "metadata": {
        "id": "n2PJcFA6dFM7"
      }
    },
    {
      "cell_type": "markdown",
      "source": [
        "##Cleaning\n"
      ],
      "metadata": {
        "id": "gbbYg5FvoqDw"
      }
    },
    {
      "cell_type": "markdown",
      "source": [
        "Engineering categories and dummies\n"
      ],
      "metadata": {
        "id": "rUPO3yuGnlG1"
      }
    },
    {
      "cell_type": "code",
      "execution_count": null,
      "metadata": {
        "id": "stppz-koKcfS"
      },
      "outputs": [],
      "source": [
        "#Replacing dummy variables\n",
        "print('Business Ready:', data2['Business Ready'].unique())\n",
        "print('Instantbook Enabled:', data2['Instantbook Enabled'].unique())\n",
        "print('Superhost:', data2['Superhost'].unique())\n",
        "\n",
        "data5=pd.get_dummies(data2, columns=['Business Ready', 'Instantbook Enabled', 'Superhost' ], drop_first=True)\n",
        "data5=data5.rename(columns={'Business Ready_True':'Business Ready','Superhost_True':'Superhost', 'Instantbook Enabled_Yes':'Instantbook Enabled'})"
      ]
    },
    {
      "cell_type": "code",
      "source": [
        "data5"
      ],
      "metadata": {
        "id": "iKGKXz8ZsAk0"
      },
      "execution_count": null,
      "outputs": []
    },
    {
      "cell_type": "markdown",
      "source": [
        "Replacing null ADR with 87.5"
      ],
      "metadata": {
        "id": "v2LTfwAyu2yt"
      }
    },
    {
      "cell_type": "code",
      "execution_count": null,
      "metadata": {
        "id": "IZqvKwr7YTfy"
      },
      "outputs": [],
      "source": [
        "#Replacing NAs with mode of the mean of top 12 neighborhood Average Daily Rate\n",
        "data5['Average Daily Rate']=np.where(data2['Average Daily Rate'].isnull(), 87.5, data2['Average Daily Rate'])\n",
        "\n",
        "#Creating variable to keep track of engineered results\n",
        "data5['check_adr']=np.where(data5[\"Average Daily Rate\"]==87.5, 1, 0)\n",
        "data5.columns\n",
        "data5.isna().sum()"
      ]
    },
    {
      "cell_type": "code",
      "execution_count": null,
      "metadata": {
        "id": "D_MV-SYj1c35"
      },
      "outputs": [],
      "source": [
        "#We can see that by making adjustments to the ADR we're able to save  2471 data points\n",
        "print(len(data.dropna()))\n",
        "print(len(data5.dropna()))\n",
        "print(len(data5.dropna())-len(data.dropna()))"
      ]
    },
    {
      "cell_type": "code",
      "execution_count": null,
      "metadata": {
        "id": "Y9kZ8M6U34nD"
      },
      "outputs": [],
      "source": [
        "data6=data5.dropna()"
      ]
    },
    {
      "cell_type": "code",
      "source": [
        "# Creating categories\n",
        "print('Listing Type:', data5['Listing Type'].unique())\n",
        "print('Property Type:', data5['Property Type'].unique())\n",
        "print('Cancellation Policy:', data5['Cancellation Policy'].unique())\n",
        "\n",
        "data6['Listing Type'] = pd.factorize(data6['Listing Type'])[0] + 1\n",
        "data6['Property Type'] = pd.factorize(data6['Property Type'])[0] + 1\n",
        "data6['Cancellation Policy']=pd.factorize(data6['Property Type'])[0] + 1"
      ],
      "metadata": {
        "id": "EILe6xg7n0LG"
      },
      "execution_count": null,
      "outputs": []
    },
    {
      "cell_type": "markdown",
      "source": [
        "Two different datasets each with a different dependent price variable:\n",
        "\n",
        "- ADR_data: views the data with average daily rate as the dependent variable\n",
        "\n",
        "- Night_data views the data with Published Nightly rate as the dependent variable"
      ],
      "metadata": {
        "id": "KPW-d9NEs9w6"
      }
    },
    {
      "cell_type": "code",
      "execution_count": null,
      "metadata": {
        "id": "0QeEZUm-0x58"
      },
      "outputs": [],
      "source": [
        "#Category:\"Listing Title\" , \"Property Type\", \"Listing Type\"\n",
        "#dummies: 'Superhost', 'Business Ready', \"Instant book Enabled\"\n",
        "#Price variables: \"Average Daily Rate\", \"Annual Revenue LTM\", \"Number of Bookings LTM\", \"Published Nightly Rate\", \"Published Monthly Rate\", \"Published Weekly Rate\"\n",
        "\n",
        "#Looking at the difference between nightly rate and average daily rate\n",
        "a=data2[[\"Published Nightly Rate\", 'Average Daily Rate']].dropna()\n",
        "ab= a['Published Nightly Rate'] - a['Average Daily Rate']\n",
        "ab. mean()\n",
        "\n"
      ]
    },
    {
      "cell_type": "code",
      "execution_count": null,
      "metadata": {
        "id": "c2_COyViLnyE"
      },
      "outputs": [],
      "source": [
        "#Data with Published nightly rate as dependent variable\n",
        "#Removing other price variables\n",
        "Night_data=data6.drop(columns=['Property ID','Neighborhood','Host ID', 'Listing Title', 'Created Date', 'Last Scraped Date', 'Zipcode', 'Annual Revenue LTM', 'Calendar Last Updated', 'Response Time (min)', 'Average Daily Rate', 'Published Monthly Rate','Published Weekly Rate'])\n",
        "Night_data\n"
      ]
    },
    {
      "cell_type": "code",
      "execution_count": null,
      "metadata": {
        "id": "hBaV5xtnCSEu"
      },
      "outputs": [],
      "source": [
        "#Data with Average daily Rate\n",
        "#Removing other price variables\n",
        "ADR_data=data6.drop(columns=['Property ID','Neighborhood','Host ID', 'Listing Title', 'Created Date', 'Last Scraped Date', 'Zipcode', 'Annual Revenue LTM', 'Calendar Last Updated', 'Response Time (min)', 'Published Nightly Rate', 'Published Monthly Rate','Published Weekly Rate'])\n",
        "ADR_data"
      ]
    },
    {
      "cell_type": "markdown",
      "metadata": {
        "id": "uTs7-dEYcreS"
      },
      "source": [
        "# Regressions"
      ]
    },
    {
      "cell_type": "markdown",
      "source": [
        "Average Daily Rate (ADR)"
      ],
      "metadata": {
        "id": "mL_1oa1fvqNh"
      }
    },
    {
      "cell_type": "code",
      "execution_count": null,
      "metadata": {
        "id": "4vkTk-8gT97g"
      },
      "outputs": [],
      "source": [
        "X=ADR_data.drop(['Average Daily Rate'],axis=1)\n",
        "y=ADR_data['Average Daily Rate']"
      ]
    },
    {
      "cell_type": "code",
      "execution_count": null,
      "metadata": {
        "id": "o4Dw_pWfN9Ci"
      },
      "outputs": [],
      "source": [
        "X_train, X_test, y_train, y_test = train_test_split(X,y,test_size=0.3, random_state=5)"
      ]
    },
    {
      "cell_type": "code",
      "execution_count": null,
      "metadata": {
        "id": "Cb7XTvUBlkDc"
      },
      "outputs": [],
      "source": [
        "from sklearn.preprocessing import StandardScaler\n",
        "X_train_scaled = StandardScaler().fit_transform(X_train)\n",
        "X_test_scaled = StandardScaler().fit_transform(X_test)"
      ]
    },
    {
      "cell_type": "markdown",
      "source": [
        "Published Nightly Rate (PNR)"
      ],
      "metadata": {
        "id": "doaBnXM3vrzx"
      }
    },
    {
      "cell_type": "code",
      "execution_count": null,
      "metadata": {
        "id": "mn3d1SYv7GTB"
      },
      "outputs": [],
      "source": [
        "X1= Night_data.drop(columns=['Published Nightly Rate'])\n",
        "y1= Night_data['Published Nightly Rate']"
      ]
    },
    {
      "cell_type": "code",
      "execution_count": null,
      "metadata": {
        "id": "_NPgTsHgDGqx"
      },
      "outputs": [],
      "source": [
        "X1_train, X1_test, y1_train, y1_test = train_test_split(X1,y1,test_size=0.3, random_state=5)\n",
        "X1_train_scaled = StandardScaler().fit_transform(X1_train)\n",
        "X1_test_scaled = StandardScaler().fit_transform(X1_test)"
      ]
    },
    {
      "cell_type": "code",
      "execution_count": null,
      "metadata": {
        "id": "StBFwyM4Bj33"
      },
      "outputs": [],
      "source": [
        "#Feature importance \n",
        "from sklearn import preprocessing\n",
        "from sklearn.ensemble import ExtraTreesRegressor\n",
        "lab_enc = preprocessing.LabelEncoder()\n",
        "\n",
        "feature_model = ExtraTreesRegressor(n_estimators=50)\n",
        "feature_model.fit(X1_train,lab_enc.fit_transform(y1_train))\n",
        "\n",
        "plt.figure(figsize=(7,7))\n",
        "feat_importances = pd.Series(feature_model.feature_importances_, index=Night_data.iloc[:,:-1].columns)\n",
        "feat_importances.nlargest(10).plot(kind='barh')\n",
        "plt.show()"
      ]
    },
    {
      "cell_type": "markdown",
      "metadata": {
        "id": "_JVeeUdJdXAu"
      },
      "source": [
        "## PCA"
      ]
    },
    {
      "cell_type": "markdown",
      "source": [
        "###PCA Average Daily Rate"
      ],
      "metadata": {
        "id": "Mr9tFhZhwQRw"
      }
    },
    {
      "cell_type": "code",
      "source": [
        "ADR_data"
      ],
      "metadata": {
        "id": "iMb0N03gmWcB"
      },
      "execution_count": null,
      "outputs": []
    },
    {
      "cell_type": "code",
      "execution_count": null,
      "metadata": {
        "id": "yBGA7wx0meJ0"
      },
      "outputs": [],
      "source": [
        "from sklearn.decomposition import PCA"
      ]
    },
    {
      "cell_type": "code",
      "execution_count": null,
      "metadata": {
        "id": "tocsRAK5qEN7"
      },
      "outputs": [],
      "source": [
        "X_train_scaled.shape"
      ]
    },
    {
      "cell_type": "code",
      "execution_count": null,
      "metadata": {
        "id": "j7lPT60OqSJM"
      },
      "outputs": [],
      "source": [
        "pca = PCA(23).fit(X_train_scaled)"
      ]
    },
    {
      "cell_type": "code",
      "execution_count": null,
      "metadata": {
        "id": "fATCxsR2u47Q"
      },
      "outputs": [],
      "source": [
        "pca_tr = pca.transform(X_train_scaled)"
      ]
    },
    {
      "cell_type": "code",
      "execution_count": null,
      "metadata": {
        "id": "2XSWEoA1vDu7"
      },
      "outputs": [],
      "source": [
        "pca.explained_variance_ratio_"
      ]
    },
    {
      "cell_type": "code",
      "execution_count": null,
      "metadata": {
        "id": "hTFNFDHlvPT1"
      },
      "outputs": [],
      "source": [
        "from sklearn.model_selection import cross_validate\n",
        "from sklearn.linear_model import LinearRegression"
      ]
    },
    {
      "cell_type": "code",
      "execution_count": null,
      "metadata": {
        "id": "yLqmHUwAxDHS"
      },
      "outputs": [],
      "source": [
        "crvalres=[]\n",
        "num_pcs=[1,2,3,4,5,6,7,8,9,10]\n",
        "for a in num_pcs:\n",
        "    reg = LinearRegression()\n",
        "    crvalreg = cross_validate(reg, pca_tr[:,0:a], y_train, cv=5, scoring='r2')\n",
        "    crvalres.append(crvalreg['test_score'].mean())"
      ]
    },
    {
      "cell_type": "code",
      "execution_count": null,
      "metadata": {
        "id": "Jp_WdHTW0Odz"
      },
      "outputs": [],
      "source": [
        "crvalres"
      ]
    },
    {
      "cell_type": "code",
      "execution_count": null,
      "metadata": {
        "id": "wUcjOHro0P-A"
      },
      "outputs": [],
      "source": [
        "np.argmax(crvalres)"
      ]
    },
    {
      "cell_type": "code",
      "execution_count": null,
      "metadata": {
        "id": "0trnBevc0bS9"
      },
      "outputs": [],
      "source": [
        "plt.plot(range(1,11),crvalres)"
      ]
    },
    {
      "cell_type": "code",
      "execution_count": null,
      "metadata": {
        "id": "NVTL7A2X6PwI"
      },
      "outputs": [],
      "source": [
        "for col,val in zip(X.columns,pca.components_[0]):\n",
        "    print(col,\":\",val)"
      ]
    },
    {
      "cell_type": "code",
      "execution_count": null,
      "metadata": {
        "id": "3xq0Mizb60wg"
      },
      "outputs": [],
      "source": [
        "for col,val in zip(X.columns,pca.components_[1]):\n",
        "    print(col,\":\",val)"
      ]
    },
    {
      "cell_type": "markdown",
      "source": [
        "### PCA Published Nightly Rate"
      ],
      "metadata": {
        "id": "bZeeCSkWwbcT"
      }
    },
    {
      "cell_type": "code",
      "execution_count": null,
      "metadata": {
        "id": "HIR4mrsoLP4w"
      },
      "outputs": [],
      "source": [
        "Night_data"
      ]
    },
    {
      "cell_type": "code",
      "execution_count": null,
      "metadata": {
        "id": "PuIQs09zpXn_"
      },
      "outputs": [],
      "source": [
        "X1_train_scaled.shape"
      ]
    },
    {
      "cell_type": "code",
      "execution_count": null,
      "metadata": {
        "id": "bxjEMlW8rNgv"
      },
      "outputs": [],
      "source": [
        "pca = PCA(23).fit(X1_train_scaled)"
      ]
    },
    {
      "cell_type": "code",
      "execution_count": null,
      "metadata": {
        "id": "Ek3_quOCsYxE"
      },
      "outputs": [],
      "source": [
        "pca_tr = pca.transform(X1_train_scaled)"
      ]
    },
    {
      "cell_type": "code",
      "execution_count": null,
      "metadata": {
        "id": "VP4Za7U6sfe6"
      },
      "outputs": [],
      "source": [
        "pca.explained_variance_ratio_"
      ]
    },
    {
      "cell_type": "code",
      "execution_count": null,
      "metadata": {
        "id": "UoMSRz1oyjFg"
      },
      "outputs": [],
      "source": [
        "crvalres=[]\n",
        "num_pcs=[1,2,3,4,5,6,7,8,9,10]\n",
        "for a in num_pcs:\n",
        "    reg = LinearRegression()\n",
        "    crvalreg = cross_validate(reg, pca_tr[:,0:a], y1_train, cv=5, scoring='r2')\n",
        "    crvalres.append(crvalreg['test_score'].mean())"
      ]
    },
    {
      "cell_type": "code",
      "execution_count": null,
      "metadata": {
        "id": "pfeA86VdzkeL"
      },
      "outputs": [],
      "source": [
        "crvalres"
      ]
    },
    {
      "cell_type": "code",
      "execution_count": null,
      "metadata": {
        "id": "N9jOoeeLz0DO"
      },
      "outputs": [],
      "source": [
        "plt.plot(range(1,11),crvalres)"
      ]
    },
    {
      "cell_type": "code",
      "execution_count": null,
      "metadata": {
        "id": "t9RO2OAwzwe6"
      },
      "outputs": [],
      "source": [
        "np.argmax(crvalres)"
      ]
    },
    {
      "cell_type": "code",
      "execution_count": null,
      "metadata": {
        "id": "oDIHNcfN0NKd"
      },
      "outputs": [],
      "source": [
        "for col, val in zip(X1.columns,pca.components_[0]):\n",
        "  print(col,':',val)"
      ]
    },
    {
      "cell_type": "markdown",
      "metadata": {
        "id": "g_YR-pjy4uU0"
      },
      "source": [
        "## OLS Regression"
      ]
    },
    {
      "cell_type": "markdown",
      "source": [
        "AS shown, Published Nightly Rate has a better predictive result than Average Daily Rate.\n",
        "\n",
        "- Nightly Rate: $R^2$= 0.724\n",
        "- Average Daily Rate: $R^2$ = 0.636\n",
        "\n",
        "For this reason we chose to run the rest of the models only using Published Nightly Rate."
      ],
      "metadata": {
        "id": "S8Tjc4eem3Od"
      }
    },
    {
      "cell_type": "code",
      "execution_count": null,
      "metadata": {
        "id": "ontK2BXkBbRT"
      },
      "outputs": [],
      "source": [
        "#OlS for ADR\n",
        "from sklearn import linear_model\n",
        "reg=linear_model.LinearRegression()\n",
        "adjusted=reg.fit(X_train, y_train)\n",
        "adjusted.score(X_test,y_test)"
      ]
    },
    {
      "cell_type": "code",
      "execution_count": null,
      "metadata": {
        "id": "bKX2rStNBiny"
      },
      "outputs": [],
      "source": [
        "#OLS for Published Nightly Rate\n",
        "from sklearn import linear_model\n",
        "reg=linear_model.LinearRegression()\n",
        "adjusted=reg.fit(X1_train, y1_train)\n",
        "adjusted.score(X1_test,y1_test)"
      ]
    },
    {
      "cell_type": "code",
      "source": [
        "#Testing for multicollinearty \n",
        "#Using a threshold of >10, we assume there's no multicollinearity between the independent variables.\n",
        "\n",
        "import statsmodels.api as sm\n",
        "x_temp = sm.add_constant(X1_train)\n",
        "\n",
        "vif = pd.DataFrame()\n",
        "vif[\"VIF Factor\"] = [variance_inflation_factor(x_temp.values, i) for i in range(x_temp.values.shape[1])]\n",
        "vif[\"features\"] = x_temp.columns\n",
        "print(vif)"
      ],
      "metadata": {
        "id": "8GK0UHHVqa8g"
      },
      "execution_count": null,
      "outputs": []
    },
    {
      "cell_type": "code",
      "source": [
        "#Cleaning Fee has strong heteroskedasticity\n",
        "plt.hist(Night_data['Cleaning Fee'])"
      ],
      "metadata": {
        "id": "_Lorh5vwUzzM"
      },
      "execution_count": null,
      "outputs": []
    },
    {
      "cell_type": "code",
      "source": [
        "Liner_Regression_results=pd.DataFrame({'Models':['LinerRegression'],\n",
        "'R2': [adjusted.score(X1_test,y1_test)],\n",
        "'MSE': [mean_squared_error(adjusted.predict(X1_test), y1_test)],\n",
        "'MAE': [mean_absolute_error(adjusted.predict(X1_test),y1_test)]})"
      ],
      "metadata": {
        "id": "iOQqX4CgvPN1"
      },
      "execution_count": null,
      "outputs": []
    },
    {
      "cell_type": "markdown",
      "metadata": {
        "id": "hcSovBGBd4UB"
      },
      "source": [
        "## Rigde Regression "
      ]
    },
    {
      "cell_type": "markdown",
      "source": [
        "Rigde Model: \n",
        "- $R^2=0.723$\n",
        "- $MSE=7136$\n",
        "- $MAE =53.56$\n",
        "\n"
      ],
      "metadata": {
        "id": "V-6WmXFhyl6u"
      }
    },
    {
      "cell_type": "code",
      "execution_count": null,
      "metadata": {
        "id": "12Xdz9Bdwiab"
      },
      "outputs": [],
      "source": [
        "from sklearn.linear_model import Ridge"
      ]
    },
    {
      "cell_type": "code",
      "execution_count": null,
      "metadata": {
        "id": "9A6N0bXWyjUL"
      },
      "outputs": [],
      "source": [
        "from sklearn.linear_model import RidgeCV"
      ]
    },
    {
      "cell_type": "code",
      "execution_count": null,
      "metadata": {
        "id": "QhiIcwyIzQCd"
      },
      "outputs": [],
      "source": [
        "np.linspace(5,-3,100)"
      ]
    },
    {
      "cell_type": "code",
      "execution_count": null,
      "metadata": {
        "id": "jZP4tCEUzQye"
      },
      "outputs": [],
      "source": [
        "lambdas = 10**np.linspace(5,-3,100)\n",
        "lambdas"
      ]
    },
    {
      "cell_type": "code",
      "execution_count": null,
      "metadata": {
        "id": "lZnik_RRysq8"
      },
      "outputs": [],
      "source": [
        "ridgecv = RidgeCV(alphas = lambdas, scoring = 'neg_mean_squared_error', normalize = True,cv=5)\n",
        "ridgecv.fit(X1_train, y1_train)\n",
        "ridgecv.alpha_"
      ]
    },
    {
      "cell_type": "code",
      "execution_count": null,
      "metadata": {
        "id": "cWH_82R5y18w"
      },
      "outputs": [],
      "source": [
        "ridgecv.alpha_"
      ]
    },
    {
      "cell_type": "code",
      "execution_count": null,
      "metadata": {
        "id": "XSebiHx40TSx"
      },
      "outputs": [],
      "source": [
        "ridgemod = Ridge(alpha = ridgecv.alpha_, normalize = True)\n",
        "ridgemod.fit(X1_train, y1_train)"
      ]
    },
    {
      "cell_type": "code",
      "source": [
        "RidgeCV_R2 = ridgemod.score(X1_test,y1_test).round(3)\n",
        "RidgeCV_MSE = mean_squared_error(ridgemod.predict(X1_test),y1_test).round(3)\n",
        "RidgeCV_MAE = mean_absolute_error(ridgemod.predict(X1_test),y1_test).round(3)\n",
        "print('R^2:', RidgeCV_R2)\n",
        "print('MSE:', RidgeCV_MSE)\n",
        "print('MAE:', RidgeCV_MAE)"
      ],
      "metadata": {
        "id": "GbTtDua58fWc"
      },
      "execution_count": null,
      "outputs": []
    },
    {
      "cell_type": "code",
      "source": [
        "Ridge_Regression_results=pd.DataFrame({'Models':['RidgeRegression_CV'],\n",
        "'R2' : [ridgemod.score(X1_test,y1_test).round(3)],\n",
        "'MSE' : [mean_squared_error(ridgemod.predict(X1_test),y1_test).round(2)],\n",
        "'MAE' : [mean_absolute_error(ridgemod.predict(X1_test),y1_test)]})"
      ],
      "metadata": {
        "id": "xuf3wy-wuRxp"
      },
      "execution_count": null,
      "outputs": []
    },
    {
      "cell_type": "markdown",
      "metadata": {
        "id": "QY9hf73dey78"
      },
      "source": [
        "\n",
        "\n",
        "## Lasso Regression"
      ]
    },
    {
      "cell_type": "markdown",
      "source": [
        "Lasso Model: \n",
        "- $R^2= 0.723$\n",
        "- $MSE= 7131$\t\n",
        "- $MAE= 53.33$\n"
      ],
      "metadata": {
        "id": "XaibB6PNy1Ep"
      }
    },
    {
      "cell_type": "code",
      "execution_count": null,
      "metadata": {
        "id": "mghzjocj1Ph1"
      },
      "outputs": [],
      "source": [
        "from sklearn.linear_model import Lasso, LassoCV"
      ]
    },
    {
      "cell_type": "code",
      "execution_count": null,
      "metadata": {
        "id": "dLkuN17a_g9i"
      },
      "outputs": [],
      "source": [
        "ols_bfat1 = Lasso(alpha=0,normalize=True)\n",
        "ols_bfat1.fit(X1_train, y1_train)"
      ]
    },
    {
      "cell_type": "code",
      "execution_count": null,
      "metadata": {
        "id": "roQQ2aBl_ycC"
      },
      "outputs": [],
      "source": [
        "mean_squared_error(ols_bfat1.predict(X1_test),y1_test).round(2)"
      ]
    },
    {
      "cell_type": "code",
      "execution_count": null,
      "metadata": {
        "id": "1Ki9vyE4_-L3"
      },
      "outputs": [],
      "source": [
        "Lassocv = LassoCV(alphas = lambdas, normalize = True,cv=5)\n",
        "Lassocv.fit(X1_train, y1_train)\n",
        "Lassocv.alpha_"
      ]
    },
    {
      "cell_type": "code",
      "execution_count": null,
      "metadata": {
        "id": "QRoLCsJ9ATc5"
      },
      "outputs": [],
      "source": [
        "Lassomod = Lasso(alpha = Lassocv.alpha_, normalize = True)\n",
        "Lassomod.fit(X1_train, y1_train)"
      ]
    },
    {
      "cell_type": "code",
      "source": [
        "LassoCV_MSE= mean_squared_error(Lassomod.predict(X1_test),y1_test).round(2)\n",
        "LassoCV_R2=Lassomod.score(X1_test,y1_test).round(3)\n",
        "LassoCV_MAE = mean_absolute_error(Lassomod.predict(X1_test),y1_test)\n",
        "print('R^2:', LassoCV_R2)\n",
        "print('MSE:', LassoCV_MSE)\n",
        "print('MAE:', LassoCV_MAE)"
      ],
      "metadata": {
        "id": "lNQtx9zq7wdz"
      },
      "execution_count": null,
      "outputs": []
    },
    {
      "cell_type": "code",
      "source": [
        "LassoCV_Results=pd.DataFrame({'Models':['LassoCV'],\n",
        "'MSE': [mean_squared_error(Lassomod.predict(X1_test),y1_test).round(2)],\n",
        "'R2': [Lassomod.score(X1_test,y1_test).round(3)],\n",
        "'MAE' : [mean_absolute_error(Lassomod.predict(X1_test),y1_test)]})"
      ],
      "metadata": {
        "id": "T3uoZX2Hu9Zg"
      },
      "execution_count": null,
      "outputs": []
    },
    {
      "cell_type": "markdown",
      "metadata": {
        "id": "ATo3COcq4Wz4"
      },
      "source": [
        "## Bagging "
      ]
    },
    {
      "cell_type": "markdown",
      "source": [
        "Bagging Model: \n",
        "- $R^2 = 0.719$\n",
        "- $MSE = 7243$\n",
        "- $MAE = 49.51$"
      ],
      "metadata": {
        "id": "dn2njCwr35j_"
      }
    },
    {
      "cell_type": "code",
      "execution_count": null,
      "metadata": {
        "id": "Ap30YypJ2kGb"
      },
      "outputs": [],
      "source": [
        "from sklearn.tree import DecisionTreeRegressor"
      ]
    },
    {
      "cell_type": "code",
      "execution_count": null,
      "metadata": {
        "id": "JTA_SX2a2Y6e"
      },
      "outputs": [],
      "source": [
        "from sklearn.ensemble import BaggingRegressor"
      ]
    },
    {
      "cell_type": "code",
      "execution_count": null,
      "metadata": {
        "id": "yRiEiKNz1_B9"
      },
      "outputs": [],
      "source": [
        "num_trees=np.linspace(50,2000,10)"
      ]
    },
    {
      "cell_type": "code",
      "execution_count": null,
      "metadata": {
        "id": "RJBQFs140xro"
      },
      "outputs": [],
      "source": [
        "oob_res=[]\n",
        "for trs in num_trees:\n",
        "    res = BaggingRegressor(base_estimator=DecisionTreeRegressor(),n_estimators=int(trs),oob_score=True,random_state=5).fit(X1_train, y1_train)\n",
        "    oob_res.append(res.oob_score_)"
      ]
    },
    {
      "cell_type": "code",
      "execution_count": null,
      "metadata": {
        "id": "LyptbYLX3S91"
      },
      "outputs": [],
      "source": [
        "plt.plot(num_trees,oob_res)"
      ]
    },
    {
      "cell_type": "code",
      "execution_count": null,
      "metadata": {
        "id": "I4jZJstN3cLw"
      },
      "outputs": [],
      "source": [
        "num_trees[np.argmax(oob_res)]"
      ]
    },
    {
      "cell_type": "code",
      "execution_count": null,
      "metadata": {
        "id": "Ajbm7lab3kG1"
      },
      "outputs": [],
      "source": [
        "opt_trs=int(num_trees[np.argmax(oob_res)])\n",
        "opt_trs"
      ]
    },
    {
      "cell_type": "code",
      "execution_count": null,
      "metadata": {
        "id": "N7X7dNkl3k5x"
      },
      "outputs": [],
      "source": [
        "bagging = BaggingRegressor(base_estimator=DecisionTreeRegressor(),n_estimators=opt_trs,random_state=5).fit(X1_train, y1_train)"
      ]
    },
    {
      "cell_type": "code",
      "execution_count": null,
      "metadata": {
        "id": "tlVAAgqG3oQC"
      },
      "outputs": [],
      "source": [
        "baggingCV_R2=bagging.score(X1_test,y1_test).round(3)\n",
        "baggingCV_MSE= mean_squared_error(bagging.predict(X1_test),y1_test).round(2)\n",
        "baggingCV_MAE = mean_absolute_error(bagging.predict(X1_test),y1_test)\n",
        "print('R^2:', baggingCV_R2)\n",
        "print('MSE:', baggingCV_MSE)\n",
        "print('MAE:', baggingCV_MAE)\n"
      ]
    },
    {
      "cell_type": "code",
      "source": [
        "baggingCV_results= pd.DataFrame({'Models':['Bagging_CV'],\n",
        "'R2':[bagging.score(X1_test,y1_test).round(3)],\n",
        "'MSE': [mean_squared_error(bagging.predict(X1_test),y1_test).round(3)],\n",
        "'MAE': [mean_absolute_error(bagging.predict(X1_test),y1_test).round(3)]})"
      ],
      "metadata": {
        "id": "FXMPMZ78vrls"
      },
      "execution_count": null,
      "outputs": []
    },
    {
      "cell_type": "markdown",
      "source": [
        "## Random Forest Model"
      ],
      "metadata": {
        "id": "D01759io7EA-"
      }
    },
    {
      "cell_type": "markdown",
      "source": [
        "Random Forest Model:\n",
        "- $R^2: 0.732$\n",
        "- $MSE: 6899.98$\n",
        "- $MAE: 0.732$"
      ],
      "metadata": {
        "id": "t1SJ5a-uXW_-"
      }
    },
    {
      "cell_type": "code",
      "source": [
        "from sklearn.ensemble import RandomForestRegressor"
      ],
      "metadata": {
        "id": "7DXlF7Lw7Kwh"
      },
      "execution_count": null,
      "outputs": []
    },
    {
      "cell_type": "code",
      "source": [
        "rf = RandomForestRegressor(n_estimators=266,max_features='sqrt',random_state=5).fit(X1_train,y1_train)"
      ],
      "metadata": {
        "id": "KykBPu8t6wjI"
      },
      "execution_count": null,
      "outputs": []
    },
    {
      "cell_type": "code",
      "source": [
        "RandomFR_R2=rf.score(X1_test,y1_test)\n",
        "RandomFR_MSE= mean_squared_error(rf.predict(X1_test),y1_test).round(2)\n",
        "RandomFRCV_MAE = mean_absolute_error(rf.predict(X1_test),y1_test)\n",
        "print('R^2:', RandomFR_R2)\n",
        "print('MSE:',RandomFR_MSE)\n",
        "print('MAE:', RandomFR_R2)"
      ],
      "metadata": {
        "id": "YeoSGxkd6ws7"
      },
      "execution_count": null,
      "outputs": []
    },
    {
      "cell_type": "code",
      "source": [
        "RandomFR_results=pd.DataFrame({'Models':['RandomForestRegressor'],\n",
        "'R2':[rf.score(X1_test,y1_test).round(3)],\n",
        "'MSE': [mean_squared_error(rf.predict(X1_test),y1_test).round(3)],\n",
        "'MAE' : [mean_absolute_error(rf.predict(X1_test),y1_test).round(3)]})"
      ],
      "metadata": {
        "id": "J9BzGT5Wvdfq"
      },
      "execution_count": null,
      "outputs": []
    },
    {
      "cell_type": "markdown",
      "metadata": {
        "id": "HWQGnCSgkp8e"
      },
      "source": [
        "## Boosting"
      ]
    },
    {
      "cell_type": "markdown",
      "source": [
        "Boosting Model: $R^2=0.598$\n"
      ],
      "metadata": {
        "id": "7wYvOihmTjas"
      }
    },
    {
      "cell_type": "code",
      "execution_count": null,
      "metadata": {
        "id": "kN_caSj_kutI"
      },
      "outputs": [],
      "source": [
        "from sklearn.ensemble import GradientBoostingRegressor"
      ]
    },
    {
      "cell_type": "code",
      "execution_count": null,
      "metadata": {
        "id": "4b-0CbZGkvbz"
      },
      "outputs": [],
      "source": [
        "from sklearn.model_selection import GridSearchCV"
      ]
    },
    {
      "cell_type": "code",
      "execution_count": null,
      "metadata": {
        "id": "ShMsgCMPkyGE"
      },
      "outputs": [],
      "source": [
        "parameters = {'learning_rate':[0.1], 'n_estimators':[266], 'max_depth':[1,2,3,4,5]}"
      ]
    },
    {
      "cell_type": "code",
      "execution_count": null,
      "metadata": {
        "id": "4liLKWepk0nX"
      },
      "outputs": [],
      "source": [
        "bmod = GradientBoostingRegressor(random_state=5)"
      ]
    },
    {
      "cell_type": "code",
      "execution_count": null,
      "metadata": {
        "id": "F6bDKBaFk292"
      },
      "outputs": [],
      "source": [
        "X1_train, X1_test, y1_train, y1_test = train_test_split(X1,y1,test_size=0.3, random_state=5)"
      ]
    },
    {
      "cell_type": "code",
      "execution_count": null,
      "metadata": {
        "id": "JNoFFvlak5nU"
      },
      "outputs": [],
      "source": [
        "boost_regr = GridSearchCV(bmod, parameters)\n",
        "boost_regr.fit(X1_train, y1_train)"
      ]
    },
    {
      "cell_type": "code",
      "source": [
        "from sklearn.metrics import accuracy_score"
      ],
      "metadata": {
        "id": "ePSVUq8OGBBP"
      },
      "execution_count": null,
      "outputs": []
    },
    {
      "cell_type": "code",
      "execution_count": null,
      "metadata": {
        "id": "gxr_NeVOly-_"
      },
      "outputs": [],
      "source": [
        "df=pd.DataFrame.from_dict(boost_regr.cv_results_)\n",
        "df.head()"
      ]
    },
    {
      "cell_type": "code",
      "execution_count": null,
      "metadata": {
        "id": "fY3rIZoQl77x"
      },
      "outputs": [],
      "source": [
        "df[df['mean_test_score']==df['mean_test_score'].max()]"
      ]
    },
    {
      "cell_type": "code",
      "execution_count": null,
      "metadata": {
        "id": "CvHquEw9lViy"
      },
      "outputs": [],
      "source": [
        "boost =GradientBoostingRegressor(random_state=5,learning_rate=0.1,n_estimators=266,max_depth=2).fit(X1_train,y1_train)"
      ]
    },
    {
      "cell_type": "code",
      "source": [
        "from sklearn.metrics import mean_absolute_error"
      ],
      "metadata": {
        "id": "_WrntyHAS_zl"
      },
      "execution_count": null,
      "outputs": []
    },
    {
      "cell_type": "code",
      "source": [
        "GBR_R2=boost.score(X1_test,y1_test)\n",
        "GBR_MSE=mean_squared_error(boost.predict(X1_test),y1_test).round(3)\n",
        "GBR_MAE= mean_absolute_error(boost.predict(X1_test),y1_test).round(2)\n",
        "print('GBR_R2:', GBR_R2)\n",
        "print('GBR_MSE:', GBR_MSE)\n",
        "print('GBR_MAE:', GBR_MAE)"
      ],
      "metadata": {
        "id": "K9FR4fIOSNdJ"
      },
      "execution_count": null,
      "outputs": []
    },
    {
      "cell_type": "code",
      "source": [
        "RandomFR_R2=rf.score(X1_test,y1_test)\n",
        "RandomFR_MSE= mean_squared_error(rf.predict(X1_test),y1_test).round(2)"
      ],
      "metadata": {
        "id": "SlB4rBT7Snds"
      },
      "execution_count": null,
      "outputs": []
    },
    {
      "cell_type": "code",
      "execution_count": null,
      "metadata": {
        "id": "vfDzpsRLmbfH"
      },
      "outputs": [],
      "source": [
        "plt.figure(figsize=(8,6))\n",
        "nfeat=X.shape[1]\n",
        "plt.barh(np.arange(nfeat),boost.feature_importances_,align='center')\n",
        "plt.yticks(np.arange(nfeat),list(X.columns))\n",
        "plt.ylim(-1,nfeat)\n",
        "plt.show()"
      ]
    },
    {
      "cell_type": "code",
      "source": [
        "Gradient_Boosting_results= pd.DataFrame({'Models':['Gradieent_Boosting'],\n",
        "'R2':[boost.score(X_test,y_test).round(3)],\n",
        "'MSE': [mean_squared_error(boost.predict(X1_test),y1_test).round(3)],\n",
        "'MAE' : [mean_absolute_error(boost.predict(X1_test),y1_test).round(3)]})"
      ],
      "metadata": {
        "id": "xt5BGISovibl"
      },
      "execution_count": null,
      "outputs": []
    },
    {
      "cell_type": "code",
      "source": [
        "Results= pd.concat([Liner_Regression_results, Ridge_Regression_results, LassoCV_Results, RandomFR_results,Gradient_Boosting_results,baggingCV_results], axis=0, ignore_index=True)\n",
        "Results"
      ],
      "metadata": {
        "id": "9AAqt__L3KkN"
      },
      "execution_count": null,
      "outputs": []
    },
    {
      "cell_type": "code",
      "source": [
        "from matplotlib import rcParams\n",
        "\n",
        "sns.catplot(\n",
        "    data=Results, kind=\"bar\",\n",
        "    x=\"Models\", y=\"R2\", hue=\"Models\",\n",
        "    ci=\"sd\", palette=\"dark\", alpha=.6, height=6, dodge=False,size=6,aspect=2)"
      ],
      "metadata": {
        "id": "zqMVsodJ3tXB"
      },
      "execution_count": null,
      "outputs": []
    },
    {
      "cell_type": "markdown",
      "source": [
        "# EDA"
      ],
      "metadata": {
        "id": "vVCSGVr3Y6GN"
      }
    },
    {
      "cell_type": "code",
      "source": [
        "from numpy.lib.function_base import median\n",
        "from numpy.ma.core import mean\n",
        "Altpub=data[data['Published Nightly Rate'] <= 500].dropna()\n",
        "Altpub.shape"
      ],
      "metadata": {
        "id": "QwXw_b_gY8zH"
      },
      "execution_count": null,
      "outputs": []
    },
    {
      "cell_type": "code",
      "source": [
        "import seaborn as sns\n",
        "sns.displot(Altpub['Published Nightly Rate'], bins=82, kde=True)"
      ],
      "metadata": {
        "id": "mFQimK6RY89V"
      },
      "execution_count": null,
      "outputs": []
    },
    {
      "cell_type": "markdown",
      "source": [
        "Distribution of the Published nightly rate and the mean published nightly rate is around 150"
      ],
      "metadata": {
        "id": "by8WgjsB1QJ4"
      }
    },
    {
      "cell_type": "code",
      "source": [
        "Altpub['Neighborhood'].unique"
      ],
      "metadata": {
        "id": "Y26n896XZY6B"
      },
      "execution_count": null,
      "outputs": []
    },
    {
      "cell_type": "code",
      "source": [
        "new=Altpub[Altpub['Neighborhood'].isin(['Harlem','Williamsburg','Brooklyn','Midtown','East Village'])]"
      ],
      "metadata": {
        "id": "FEHCg7f5ZsqY"
      },
      "execution_count": null,
      "outputs": []
    },
    {
      "cell_type": "code",
      "source": [
        "Plot=sns.violinplot(data=new, x='Neighborhood', y='Published Nightly Rate')\n",
        "Plot.set_title('Distribution of Publised Nighly Rate prices for each neighberhood_group')"
      ],
      "metadata": {
        "id": "or9siGHuY9BT"
      },
      "execution_count": null,
      "outputs": []
    },
    {
      "cell_type": "markdown",
      "source": [
        "The violin plot shows the publised rate of the top 5 negibourhood(by count)"
      ],
      "metadata": {
        "id": "_SkfCF_O1pIk"
      }
    },
    {
      "cell_type": "code",
      "source": [
        "Plot2=sns.catplot(x='Property Type', hue='Neighborhood', data=new, kind='count',height=8.27, aspect=11.7/8.27)\n",
        "Plot2.set_xticklabels(rotation=90)"
      ],
      "metadata": {
        "id": "GvCoYLDAY9FR"
      },
      "execution_count": null,
      "outputs": []
    },
    {
      "cell_type": "markdown",
      "source": [
        "The barchart shows that majority of the property listed on the airbnb in the top 5 neighbourhood in New York majorly rent apartment"
      ],
      "metadata": {
        "id": "fOiCxeI31sUN"
      }
    },
    {
      "cell_type": "code",
      "source": [
        "b=Night_data.corr(method='kendall')\n",
        "sns.heatmap(b)\n"
      ],
      "metadata": {
        "id": "PO_j4WXkaFxs"
      },
      "execution_count": null,
      "outputs": []
    },
    {
      "cell_type": "markdown",
      "source": [
        "Heat map of all the variables"
      ],
      "metadata": {
        "id": "cdrY78_d3_QV"
      }
    },
    {
      "cell_type": "code",
      "source": [
        "Corr=Night_data.corr()"
      ],
      "metadata": {
        "id": "yYZyJWzibFzk"
      },
      "execution_count": null,
      "outputs": []
    },
    {
      "cell_type": "code",
      "source": [
        "x=Corr.iloc[:,[14]]\n",
        "sns.heatmap(x)"
      ],
      "metadata": {
        "id": "OC-AAJ-waF1O"
      },
      "execution_count": null,
      "outputs": []
    },
    {
      "cell_type": "markdown",
      "source": [
        "Heat map of correlation of Published Nightly Rate"
      ],
      "metadata": {
        "id": "fR8phB8BgmG-"
      }
    },
    {
      "cell_type": "code",
      "source": [
        "from wordcloud import WordCloud"
      ],
      "metadata": {
        "id": "t3XYj9BmZ4rh"
      },
      "execution_count": null,
      "outputs": []
    },
    {
      "cell_type": "code",
      "source": [
        "data18=data.dropna()\n",
        "plt.subplots(figsize=(15,8))\n",
        "wordcloud = WordCloud( background_color='white',width=1920,height=1080).generate(\" \".join(data18['Neighborhood']))\n",
        "plt.imshow(wordcloud)\n",
        "plt.axis('off')\n",
        "plt.savefig('neighbourhood.png')\n",
        "plt.show()"
      ],
      "metadata": {
        "id": "gTDEq8aSdcW1"
      },
      "execution_count": null,
      "outputs": []
    },
    {
      "cell_type": "markdown",
      "source": [
        "The world cloud shows that Harlem, East Side, Williamsburg, Midtown and Brooklyn are the most recurring words in the neighbourhood coloum."
      ],
      "metadata": {
        "id": "meO56cZS2Vz8"
      }
    }
  ],
  "metadata": {
    "colab": {
      "collapsed_sections": [
        "LqIISSwab_Mz",
        "uTs7-dEYcreS",
        "_JVeeUdJdXAu",
        "Mr9tFhZhwQRw",
        "bZeeCSkWwbcT",
        "g_YR-pjy4uU0",
        "hcSovBGBd4UB",
        "QY9hf73dey78",
        "ATo3COcq4Wz4",
        "D01759io7EA-",
        "HWQGnCSgkp8e"
      ],
      "provenance": [],
      "include_colab_link": true
    },
    "kernelspec": {
      "display_name": "Python 3",
      "name": "python3"
    },
    "language_info": {
      "name": "python"
    }
  },
  "nbformat": 4,
  "nbformat_minor": 0
}